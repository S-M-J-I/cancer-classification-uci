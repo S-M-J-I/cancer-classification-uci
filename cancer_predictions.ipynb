{
 "cells": [
  {
   "cell_type": "code",
   "execution_count": 1,
   "id": "7fe13060",
   "metadata": {},
   "outputs": [],
   "source": [
    "import numpy as np\n",
    "import pandas as pd\n",
    "import matplotlib.pyplot as plt"
   ]
  },
  {
   "cell_type": "markdown",
   "id": "334dbeab",
   "metadata": {},
   "source": [
    "# Data Preprocessing"
   ]
  },
  {
   "cell_type": "markdown",
   "id": "1fbff1e1",
   "metadata": {},
   "source": [
    "## Feature Checking"
   ]
  },
  {
   "cell_type": "code",
   "execution_count": 2,
   "id": "a0f32119",
   "metadata": {},
   "outputs": [
    {
     "data": {
      "text/html": [
       "<div>\n",
       "<style scoped>\n",
       "    .dataframe tbody tr th:only-of-type {\n",
       "        vertical-align: middle;\n",
       "    }\n",
       "\n",
       "    .dataframe tbody tr th {\n",
       "        vertical-align: top;\n",
       "    }\n",
       "\n",
       "    .dataframe thead th {\n",
       "        text-align: right;\n",
       "    }\n",
       "</style>\n",
       "<table border=\"1\" class=\"dataframe\">\n",
       "  <thead>\n",
       "    <tr style=\"text-align: right;\">\n",
       "      <th></th>\n",
       "      <th>mean radius</th>\n",
       "      <th>mean texture</th>\n",
       "      <th>mean perimeter</th>\n",
       "      <th>mean area</th>\n",
       "      <th>mean smoothness</th>\n",
       "      <th>mean compactness</th>\n",
       "      <th>mean concavity</th>\n",
       "      <th>mean concave points</th>\n",
       "      <th>mean symmetry</th>\n",
       "      <th>mean fractal dimension</th>\n",
       "      <th>...</th>\n",
       "      <th>worst texture</th>\n",
       "      <th>worst perimeter</th>\n",
       "      <th>worst area</th>\n",
       "      <th>worst smoothness</th>\n",
       "      <th>worst compactness</th>\n",
       "      <th>worst concavity</th>\n",
       "      <th>worst concave points</th>\n",
       "      <th>worst symmetry</th>\n",
       "      <th>worst fractal dimension</th>\n",
       "      <th>benign_0__mal_1</th>\n",
       "    </tr>\n",
       "  </thead>\n",
       "  <tbody>\n",
       "    <tr>\n",
       "      <th>0</th>\n",
       "      <td>17.99</td>\n",
       "      <td>10.38</td>\n",
       "      <td>122.80</td>\n",
       "      <td>1001.0</td>\n",
       "      <td>0.11840</td>\n",
       "      <td>0.27760</td>\n",
       "      <td>0.3001</td>\n",
       "      <td>0.14710</td>\n",
       "      <td>0.2419</td>\n",
       "      <td>0.07871</td>\n",
       "      <td>...</td>\n",
       "      <td>17.33</td>\n",
       "      <td>184.60</td>\n",
       "      <td>2019.0</td>\n",
       "      <td>0.1622</td>\n",
       "      <td>0.6656</td>\n",
       "      <td>0.7119</td>\n",
       "      <td>0.2654</td>\n",
       "      <td>0.4601</td>\n",
       "      <td>0.11890</td>\n",
       "      <td>0</td>\n",
       "    </tr>\n",
       "    <tr>\n",
       "      <th>1</th>\n",
       "      <td>20.57</td>\n",
       "      <td>17.77</td>\n",
       "      <td>132.90</td>\n",
       "      <td>1326.0</td>\n",
       "      <td>0.08474</td>\n",
       "      <td>0.07864</td>\n",
       "      <td>0.0869</td>\n",
       "      <td>0.07017</td>\n",
       "      <td>0.1812</td>\n",
       "      <td>0.05667</td>\n",
       "      <td>...</td>\n",
       "      <td>23.41</td>\n",
       "      <td>158.80</td>\n",
       "      <td>1956.0</td>\n",
       "      <td>0.1238</td>\n",
       "      <td>0.1866</td>\n",
       "      <td>0.2416</td>\n",
       "      <td>0.1860</td>\n",
       "      <td>0.2750</td>\n",
       "      <td>0.08902</td>\n",
       "      <td>0</td>\n",
       "    </tr>\n",
       "    <tr>\n",
       "      <th>2</th>\n",
       "      <td>19.69</td>\n",
       "      <td>21.25</td>\n",
       "      <td>130.00</td>\n",
       "      <td>1203.0</td>\n",
       "      <td>0.10960</td>\n",
       "      <td>0.15990</td>\n",
       "      <td>0.1974</td>\n",
       "      <td>0.12790</td>\n",
       "      <td>0.2069</td>\n",
       "      <td>0.05999</td>\n",
       "      <td>...</td>\n",
       "      <td>25.53</td>\n",
       "      <td>152.50</td>\n",
       "      <td>1709.0</td>\n",
       "      <td>0.1444</td>\n",
       "      <td>0.4245</td>\n",
       "      <td>0.4504</td>\n",
       "      <td>0.2430</td>\n",
       "      <td>0.3613</td>\n",
       "      <td>0.08758</td>\n",
       "      <td>0</td>\n",
       "    </tr>\n",
       "    <tr>\n",
       "      <th>3</th>\n",
       "      <td>11.42</td>\n",
       "      <td>20.38</td>\n",
       "      <td>77.58</td>\n",
       "      <td>386.1</td>\n",
       "      <td>0.14250</td>\n",
       "      <td>0.28390</td>\n",
       "      <td>0.2414</td>\n",
       "      <td>0.10520</td>\n",
       "      <td>0.2597</td>\n",
       "      <td>0.09744</td>\n",
       "      <td>...</td>\n",
       "      <td>26.50</td>\n",
       "      <td>98.87</td>\n",
       "      <td>567.7</td>\n",
       "      <td>0.2098</td>\n",
       "      <td>0.8663</td>\n",
       "      <td>0.6869</td>\n",
       "      <td>0.2575</td>\n",
       "      <td>0.6638</td>\n",
       "      <td>0.17300</td>\n",
       "      <td>0</td>\n",
       "    </tr>\n",
       "    <tr>\n",
       "      <th>4</th>\n",
       "      <td>20.29</td>\n",
       "      <td>14.34</td>\n",
       "      <td>135.10</td>\n",
       "      <td>1297.0</td>\n",
       "      <td>0.10030</td>\n",
       "      <td>0.13280</td>\n",
       "      <td>0.1980</td>\n",
       "      <td>0.10430</td>\n",
       "      <td>0.1809</td>\n",
       "      <td>0.05883</td>\n",
       "      <td>...</td>\n",
       "      <td>16.67</td>\n",
       "      <td>152.20</td>\n",
       "      <td>1575.0</td>\n",
       "      <td>0.1374</td>\n",
       "      <td>0.2050</td>\n",
       "      <td>0.4000</td>\n",
       "      <td>0.1625</td>\n",
       "      <td>0.2364</td>\n",
       "      <td>0.07678</td>\n",
       "      <td>0</td>\n",
       "    </tr>\n",
       "  </tbody>\n",
       "</table>\n",
       "<p>5 rows × 31 columns</p>\n",
       "</div>"
      ],
      "text/plain": [
       "   mean radius  mean texture  mean perimeter  mean area  mean smoothness  \\\n",
       "0        17.99         10.38          122.80     1001.0          0.11840   \n",
       "1        20.57         17.77          132.90     1326.0          0.08474   \n",
       "2        19.69         21.25          130.00     1203.0          0.10960   \n",
       "3        11.42         20.38           77.58      386.1          0.14250   \n",
       "4        20.29         14.34          135.10     1297.0          0.10030   \n",
       "\n",
       "   mean compactness  mean concavity  mean concave points  mean symmetry  \\\n",
       "0           0.27760          0.3001              0.14710         0.2419   \n",
       "1           0.07864          0.0869              0.07017         0.1812   \n",
       "2           0.15990          0.1974              0.12790         0.2069   \n",
       "3           0.28390          0.2414              0.10520         0.2597   \n",
       "4           0.13280          0.1980              0.10430         0.1809   \n",
       "\n",
       "   mean fractal dimension  ...  worst texture  worst perimeter  worst area  \\\n",
       "0                 0.07871  ...          17.33           184.60      2019.0   \n",
       "1                 0.05667  ...          23.41           158.80      1956.0   \n",
       "2                 0.05999  ...          25.53           152.50      1709.0   \n",
       "3                 0.09744  ...          26.50            98.87       567.7   \n",
       "4                 0.05883  ...          16.67           152.20      1575.0   \n",
       "\n",
       "   worst smoothness  worst compactness  worst concavity  worst concave points  \\\n",
       "0            0.1622             0.6656           0.7119                0.2654   \n",
       "1            0.1238             0.1866           0.2416                0.1860   \n",
       "2            0.1444             0.4245           0.4504                0.2430   \n",
       "3            0.2098             0.8663           0.6869                0.2575   \n",
       "4            0.1374             0.2050           0.4000                0.1625   \n",
       "\n",
       "   worst symmetry  worst fractal dimension  benign_0__mal_1  \n",
       "0          0.4601                  0.11890                0  \n",
       "1          0.2750                  0.08902                0  \n",
       "2          0.3613                  0.08758                0  \n",
       "3          0.6638                  0.17300                0  \n",
       "4          0.2364                  0.07678                0  \n",
       "\n",
       "[5 rows x 31 columns]"
      ]
     },
     "execution_count": 2,
     "metadata": {},
     "output_type": "execute_result"
    }
   ],
   "source": [
    "data = pd.read_csv(\"cancer_classification.csv\")\n",
    "data.head()"
   ]
  },
  {
   "cell_type": "code",
   "execution_count": 3,
   "id": "244d3d4c",
   "metadata": {},
   "outputs": [
    {
     "data": {
      "text/plain": [
       "mean radius                float64\n",
       "mean texture               float64\n",
       "mean perimeter             float64\n",
       "mean area                  float64\n",
       "mean smoothness            float64\n",
       "mean compactness           float64\n",
       "mean concavity             float64\n",
       "mean concave points        float64\n",
       "mean symmetry              float64\n",
       "mean fractal dimension     float64\n",
       "radius error               float64\n",
       "texture error              float64\n",
       "perimeter error            float64\n",
       "area error                 float64\n",
       "smoothness error           float64\n",
       "compactness error          float64\n",
       "concavity error            float64\n",
       "concave points error       float64\n",
       "symmetry error             float64\n",
       "fractal dimension error    float64\n",
       "worst radius               float64\n",
       "worst texture              float64\n",
       "worst perimeter            float64\n",
       "worst area                 float64\n",
       "worst smoothness           float64\n",
       "worst compactness          float64\n",
       "worst concavity            float64\n",
       "worst concave points       float64\n",
       "worst symmetry             float64\n",
       "worst fractal dimension    float64\n",
       "benign_0__mal_1              int64\n",
       "dtype: object"
      ]
     },
     "execution_count": 3,
     "metadata": {},
     "output_type": "execute_result"
    }
   ],
   "source": [
    "data.dtypes"
   ]
  },
  {
   "cell_type": "code",
   "execution_count": 4,
   "id": "1fc09fc4",
   "metadata": {},
   "outputs": [
    {
     "data": {
      "text/plain": [
       "mean radius                0\n",
       "mean texture               0\n",
       "mean perimeter             0\n",
       "mean area                  0\n",
       "mean smoothness            0\n",
       "mean compactness           0\n",
       "mean concavity             0\n",
       "mean concave points        0\n",
       "mean symmetry              0\n",
       "mean fractal dimension     0\n",
       "radius error               0\n",
       "texture error              0\n",
       "perimeter error            0\n",
       "area error                 0\n",
       "smoothness error           0\n",
       "compactness error          0\n",
       "concavity error            0\n",
       "concave points error       0\n",
       "symmetry error             0\n",
       "fractal dimension error    0\n",
       "worst radius               0\n",
       "worst texture              0\n",
       "worst perimeter            0\n",
       "worst area                 0\n",
       "worst smoothness           0\n",
       "worst compactness          0\n",
       "worst concavity            0\n",
       "worst concave points       0\n",
       "worst symmetry             0\n",
       "worst fractal dimension    0\n",
       "benign_0__mal_1            0\n",
       "dtype: int64"
      ]
     },
     "execution_count": 4,
     "metadata": {},
     "output_type": "execute_result"
    }
   ],
   "source": [
    "data.isna().sum()"
   ]
  },
  {
   "cell_type": "markdown",
   "id": "5e9765bf",
   "metadata": {},
   "source": [
    "**No missing values. Perfect!**"
   ]
  },
  {
   "cell_type": "code",
   "execution_count": 5,
   "id": "983d30f0",
   "metadata": {},
   "outputs": [
    {
     "data": {
      "text/plain": [
       "1    357\n",
       "0    212\n",
       "Name: benign_0__mal_1, dtype: int64"
      ]
     },
     "execution_count": 5,
     "metadata": {},
     "output_type": "execute_result"
    }
   ],
   "source": [
    "data[\"benign_0__mal_1\"].value_counts()"
   ]
  },
  {
   "cell_type": "markdown",
   "id": "2174b1a9",
   "metadata": {},
   "source": [
    "Two types of results (0 / 1). **Binary Classification**"
   ]
  },
  {
   "cell_type": "markdown",
   "id": "4b437c60",
   "metadata": {},
   "source": [
    "## Split into X, Y"
   ]
  },
  {
   "cell_type": "code",
   "execution_count": 128,
   "id": "982dcb0b",
   "metadata": {},
   "outputs": [],
   "source": [
    "x = data.drop(\"benign_0__mal_1\", axis=1)\n",
    "y = data[\"benign_0__mal_1\"]"
   ]
  },
  {
   "cell_type": "markdown",
   "id": "d04ab50d",
   "metadata": {},
   "source": [
    "## Feature Scaling"
   ]
  },
  {
   "cell_type": "markdown",
   "id": "787b1bfa",
   "metadata": {},
   "source": [
    "Here, we normalize our features"
   ]
  },
  {
   "cell_type": "code",
   "execution_count": 129,
   "id": "12972ef3",
   "metadata": {},
   "outputs": [],
   "source": [
    "from sklearn.preprocessing import MinMaxScaler\n",
    "scaler = MinMaxScaler()\n",
    "# transform data\n",
    "scaled = scaler.fit_transform(x)"
   ]
  },
  {
   "cell_type": "code",
   "execution_count": 130,
   "id": "2cfee9b0",
   "metadata": {},
   "outputs": [],
   "source": [
    "from sklearn.model_selection import train_test_split\n",
    "x_train, x_test, y_train, y_test = train_test_split(scaled, y, test_size=0.2, random_state=0)"
   ]
  },
  {
   "cell_type": "markdown",
   "id": "74a9eb47",
   "metadata": {},
   "source": [
    "## Training"
   ]
  },
  {
   "cell_type": "markdown",
   "id": "c000a6dc",
   "metadata": {},
   "source": [
    "### Linear Model"
   ]
  },
  {
   "cell_type": "code",
   "execution_count": 131,
   "id": "aded6266",
   "metadata": {},
   "outputs": [
    {
     "data": {
      "text/plain": [
       "RidgeClassifier()"
      ]
     },
     "execution_count": 131,
     "metadata": {},
     "output_type": "execute_result"
    }
   ],
   "source": [
    "from sklearn.linear_model import RidgeClassifier\n",
    "lin_class = RidgeClassifier()\n",
    "lin_class.fit(x_train, y_train)"
   ]
  },
  {
   "cell_type": "code",
   "execution_count": 132,
   "id": "cf486c44",
   "metadata": {},
   "outputs": [],
   "source": [
    "y_preds = lin_class.predict(x_test)"
   ]
  },
  {
   "cell_type": "code",
   "execution_count": 133,
   "id": "da8c0f47",
   "metadata": {},
   "outputs": [
    {
     "name": "stdout",
     "output_type": "stream",
     "text": [
      "              precision    recall  f1-score   support\n",
      "\n",
      "           0       1.00      0.89      0.94        47\n",
      "           1       0.93      1.00      0.96        67\n",
      "\n",
      "    accuracy                           0.96       114\n",
      "   macro avg       0.97      0.95      0.95       114\n",
      "weighted avg       0.96      0.96      0.96       114\n",
      "\n"
     ]
    }
   ],
   "source": [
    "from sklearn.metrics import classification_report, confusion_matrix, accuracy_score\n",
    "\n",
    "print(classification_report(y_test, y_preds))"
   ]
  },
  {
   "cell_type": "code",
   "execution_count": 134,
   "id": "4173047e",
   "metadata": {},
   "outputs": [
    {
     "data": {
      "text/plain": [
       "array([[42,  5],\n",
       "       [ 0, 67]], dtype=int64)"
      ]
     },
     "execution_count": 134,
     "metadata": {},
     "output_type": "execute_result"
    }
   ],
   "source": [
    "confusion_matrix(y_test, y_preds)"
   ]
  },
  {
   "cell_type": "code",
   "execution_count": 135,
   "id": "6462605f",
   "metadata": {},
   "outputs": [
    {
     "data": {
      "text/plain": [
       "0.956140350877193"
      ]
     },
     "execution_count": 135,
     "metadata": {},
     "output_type": "execute_result"
    }
   ],
   "source": [
    "lin_class.score(x_test, y_test)"
   ]
  },
  {
   "cell_type": "markdown",
   "id": "4d763b59",
   "metadata": {},
   "source": [
    "#### The Linear Model (RidgeClassifier) has an accuracy score of 96%"
   ]
  },
  {
   "cell_type": "markdown",
   "id": "079a13c7",
   "metadata": {},
   "source": [
    "<hr>\n",
    "\n",
    "### Support Vector Machines"
   ]
  },
  {
   "cell_type": "code",
   "execution_count": 136,
   "id": "cce2ceee",
   "metadata": {},
   "outputs": [
    {
     "data": {
      "text/plain": [
       "SVC()"
      ]
     },
     "execution_count": 136,
     "metadata": {},
     "output_type": "execute_result"
    }
   ],
   "source": [
    "from sklearn.svm import SVC\n",
    "svc = SVC()\n",
    "svc.fit(x_train, y_train)"
   ]
  },
  {
   "cell_type": "code",
   "execution_count": 137,
   "id": "d666f29d",
   "metadata": {},
   "outputs": [],
   "source": [
    "y_preds_svc = svc.predict(x_test)"
   ]
  },
  {
   "cell_type": "code",
   "execution_count": 138,
   "id": "56013756",
   "metadata": {},
   "outputs": [
    {
     "name": "stdout",
     "output_type": "stream",
     "text": [
      "              precision    recall  f1-score   support\n",
      "\n",
      "           0       0.98      0.96      0.97        47\n",
      "           1       0.97      0.99      0.98        67\n",
      "\n",
      "    accuracy                           0.97       114\n",
      "   macro avg       0.97      0.97      0.97       114\n",
      "weighted avg       0.97      0.97      0.97       114\n",
      "\n"
     ]
    }
   ],
   "source": [
    "from sklearn.metrics import classification_report, confusion_matrix, accuracy_score\n",
    "\n",
    "print(classification_report(y_test, y_preds_svc))"
   ]
  },
  {
   "cell_type": "code",
   "execution_count": 139,
   "id": "0325e3df",
   "metadata": {},
   "outputs": [
    {
     "data": {
      "text/plain": [
       "array([[42,  5],\n",
       "       [ 0, 67]], dtype=int64)"
      ]
     },
     "execution_count": 139,
     "metadata": {},
     "output_type": "execute_result"
    }
   ],
   "source": [
    "confusion_matrix(y_test, y_preds)"
   ]
  },
  {
   "cell_type": "code",
   "execution_count": 140,
   "id": "fb764d99",
   "metadata": {},
   "outputs": [
    {
     "data": {
      "text/plain": [
       "0.9736842105263158"
      ]
     },
     "execution_count": 140,
     "metadata": {},
     "output_type": "execute_result"
    }
   ],
   "source": [
    "svc.score(x_test, y_test)"
   ]
  },
  {
   "cell_type": "markdown",
   "id": "f4e11b28",
   "metadata": {},
   "source": [
    "#### The Support Vector Machine (SVC) has a score of **97%**"
   ]
  },
  {
   "cell_type": "markdown",
   "id": "069ca35c",
   "metadata": {},
   "source": [
    "<hr>\n",
    "\n",
    "### Stochastic Gradient Descent"
   ]
  },
  {
   "cell_type": "code",
   "execution_count": 141,
   "id": "0109479d",
   "metadata": {},
   "outputs": [
    {
     "data": {
      "text/plain": [
       "SGDClassifier()"
      ]
     },
     "execution_count": 141,
     "metadata": {},
     "output_type": "execute_result"
    }
   ],
   "source": [
    "from sklearn.linear_model import SGDClassifier\n",
    "sgd = SGDClassifier()\n",
    "sgd.fit(x_train, y_train)"
   ]
  },
  {
   "cell_type": "code",
   "execution_count": 142,
   "id": "6f128c08",
   "metadata": {},
   "outputs": [],
   "source": [
    "y_preds_sgd = sgd.predict(x_test)"
   ]
  },
  {
   "cell_type": "code",
   "execution_count": 143,
   "id": "55a2fe15",
   "metadata": {},
   "outputs": [
    {
     "name": "stdout",
     "output_type": "stream",
     "text": [
      "              precision    recall  f1-score   support\n",
      "\n",
      "           0       0.98      0.94      0.96        47\n",
      "           1       0.96      0.99      0.97        67\n",
      "\n",
      "    accuracy                           0.96       114\n",
      "   macro avg       0.97      0.96      0.96       114\n",
      "weighted avg       0.97      0.96      0.96       114\n",
      "\n"
     ]
    }
   ],
   "source": [
    "from sklearn.metrics import classification_report, confusion_matrix, accuracy_score\n",
    "\n",
    "print(classification_report(y_test, y_preds_sgd))"
   ]
  },
  {
   "cell_type": "code",
   "execution_count": 144,
   "id": "710f41e2",
   "metadata": {},
   "outputs": [
    {
     "data": {
      "text/plain": [
       "array([[44,  3],\n",
       "       [ 1, 66]], dtype=int64)"
      ]
     },
     "execution_count": 144,
     "metadata": {},
     "output_type": "execute_result"
    }
   ],
   "source": [
    "confusion_matrix(y_test, y_preds_sgd)"
   ]
  },
  {
   "cell_type": "code",
   "execution_count": 145,
   "id": "417ea666",
   "metadata": {},
   "outputs": [
    {
     "data": {
      "text/plain": [
       "0.9649122807017544"
      ]
     },
     "execution_count": 145,
     "metadata": {},
     "output_type": "execute_result"
    }
   ],
   "source": [
    "sgd.score(x_test, y_test)"
   ]
  },
  {
   "cell_type": "markdown",
   "id": "66e05662",
   "metadata": {},
   "source": [
    "#### The Stochastic Gradient Descent has a score of **96%**"
   ]
  },
  {
   "cell_type": "markdown",
   "id": "32579727",
   "metadata": {},
   "source": [
    "<hr>\n",
    "\n",
    "### Nearest Neighbours"
   ]
  },
  {
   "cell_type": "code",
   "execution_count": 146,
   "id": "0fc3becd",
   "metadata": {},
   "outputs": [
    {
     "data": {
      "text/plain": [
       "KNeighborsClassifier()"
      ]
     },
     "execution_count": 146,
     "metadata": {},
     "output_type": "execute_result"
    }
   ],
   "source": [
    "from sklearn.neighbors import KNeighborsClassifier\n",
    "knnc = KNeighborsClassifier()\n",
    "knnc.fit(x_train,y_train)"
   ]
  },
  {
   "cell_type": "code",
   "execution_count": 147,
   "id": "45a74f3f",
   "metadata": {},
   "outputs": [],
   "source": [
    "y_preds_knn = knnc.predict(x_test)"
   ]
  },
  {
   "cell_type": "code",
   "execution_count": 148,
   "id": "6b3a0c93",
   "metadata": {},
   "outputs": [
    {
     "name": "stdout",
     "output_type": "stream",
     "text": [
      "              precision    recall  f1-score   support\n",
      "\n",
      "           0       1.00      0.91      0.96        47\n",
      "           1       0.94      1.00      0.97        67\n",
      "\n",
      "    accuracy                           0.96       114\n",
      "   macro avg       0.97      0.96      0.96       114\n",
      "weighted avg       0.97      0.96      0.96       114\n",
      "\n"
     ]
    }
   ],
   "source": [
    "from sklearn.metrics import classification_report, confusion_matrix, accuracy_score\n",
    "\n",
    "print(classification_report(y_test, y_preds_knn))"
   ]
  },
  {
   "cell_type": "code",
   "execution_count": 149,
   "id": "98f761ed",
   "metadata": {},
   "outputs": [
    {
     "data": {
      "text/plain": [
       "array([[43,  4],\n",
       "       [ 0, 67]], dtype=int64)"
      ]
     },
     "execution_count": 149,
     "metadata": {},
     "output_type": "execute_result"
    }
   ],
   "source": [
    "confusion_matrix(y_test, y_preds_knn)"
   ]
  },
  {
   "cell_type": "code",
   "execution_count": 150,
   "id": "f3bc3c27",
   "metadata": {},
   "outputs": [
    {
     "data": {
      "text/plain": [
       "0.9649122807017544"
      ]
     },
     "execution_count": 150,
     "metadata": {},
     "output_type": "execute_result"
    }
   ],
   "source": [
    "knnc.score(x_test, y_test)"
   ]
  },
  {
   "cell_type": "markdown",
   "id": "6991ddef",
   "metadata": {},
   "source": [
    "#### The Nearest Neighbors has a score of 97%"
   ]
  },
  {
   "cell_type": "markdown",
   "id": "b808874e",
   "metadata": {},
   "source": [
    "<hr>\n",
    "\n",
    "### Gaussian Processes"
   ]
  },
  {
   "cell_type": "code",
   "execution_count": 151,
   "id": "407b50a2",
   "metadata": {},
   "outputs": [
    {
     "data": {
      "text/plain": [
       "GaussianProcessClassifier()"
      ]
     },
     "execution_count": 151,
     "metadata": {},
     "output_type": "execute_result"
    }
   ],
   "source": [
    "from sklearn.gaussian_process import GaussianProcessClassifier\n",
    "gpc = GaussianProcessClassifier()\n",
    "gpc.fit(x_train, y_train)"
   ]
  },
  {
   "cell_type": "code",
   "execution_count": 152,
   "id": "25fa6da8",
   "metadata": {},
   "outputs": [],
   "source": [
    "y_preds_gpc = gpc.predict(x_test)"
   ]
  },
  {
   "cell_type": "code",
   "execution_count": 153,
   "id": "03a4bb3c",
   "metadata": {},
   "outputs": [
    {
     "name": "stdout",
     "output_type": "stream",
     "text": [
      "              precision    recall  f1-score   support\n",
      "\n",
      "           0       1.00      0.89      0.94        47\n",
      "           1       0.93      1.00      0.96        67\n",
      "\n",
      "    accuracy                           0.96       114\n",
      "   macro avg       0.97      0.95      0.95       114\n",
      "weighted avg       0.96      0.96      0.96       114\n",
      "\n"
     ]
    }
   ],
   "source": [
    "print(classification_report(y_test, y_preds_gpc))"
   ]
  },
  {
   "cell_type": "code",
   "execution_count": 154,
   "id": "5a202ae9",
   "metadata": {},
   "outputs": [
    {
     "data": {
      "text/plain": [
       "array([[42,  5],\n",
       "       [ 0, 67]], dtype=int64)"
      ]
     },
     "execution_count": 154,
     "metadata": {},
     "output_type": "execute_result"
    }
   ],
   "source": [
    "confusion_matrix(y_test, y_preds_gpc)"
   ]
  },
  {
   "cell_type": "code",
   "execution_count": 155,
   "id": "acad93a4",
   "metadata": {},
   "outputs": [
    {
     "data": {
      "text/plain": [
       "0.956140350877193"
      ]
     },
     "execution_count": 155,
     "metadata": {},
     "output_type": "execute_result"
    }
   ],
   "source": [
    "gpc.score(x_test, y_test)"
   ]
  },
  {
   "cell_type": "markdown",
   "id": "c0c8eda2",
   "metadata": {},
   "source": [
    "#### The Gaussian Processes has a score of 96%"
   ]
  },
  {
   "cell_type": "markdown",
   "id": "b1e62cf0",
   "metadata": {},
   "source": [
    "<hr>\n",
    "\n",
    "### Naive Bayes"
   ]
  },
  {
   "cell_type": "code",
   "execution_count": 156,
   "id": "6f405a7f",
   "metadata": {},
   "outputs": [
    {
     "data": {
      "text/plain": [
       "GaussianNB()"
      ]
     },
     "execution_count": 156,
     "metadata": {},
     "output_type": "execute_result"
    }
   ],
   "source": [
    "from sklearn.naive_bayes import GaussianNB\n",
    "gnb = GaussianNB()\n",
    "gnb.fit(x_train,y_train)"
   ]
  },
  {
   "cell_type": "code",
   "execution_count": 157,
   "id": "97690246",
   "metadata": {},
   "outputs": [],
   "source": [
    "y_preds_gnb = gnb.predict(x_test)"
   ]
  },
  {
   "cell_type": "code",
   "execution_count": 158,
   "id": "f13a8850",
   "metadata": {},
   "outputs": [
    {
     "name": "stdout",
     "output_type": "stream",
     "text": [
      "              precision    recall  f1-score   support\n",
      "\n",
      "           0       0.88      0.89      0.88        47\n",
      "           1       0.92      0.91      0.92        67\n",
      "\n",
      "    accuracy                           0.90       114\n",
      "   macro avg       0.90      0.90      0.90       114\n",
      "weighted avg       0.90      0.90      0.90       114\n",
      "\n"
     ]
    }
   ],
   "source": [
    "print(classification_report(y_test, y_preds_gnb))"
   ]
  },
  {
   "cell_type": "code",
   "execution_count": 159,
   "id": "3ffd6077",
   "metadata": {},
   "outputs": [
    {
     "data": {
      "text/plain": [
       "array([[42,  5],\n",
       "       [ 6, 61]], dtype=int64)"
      ]
     },
     "execution_count": 159,
     "metadata": {},
     "output_type": "execute_result"
    }
   ],
   "source": [
    "confusion_matrix(y_test, y_preds_gnb)"
   ]
  },
  {
   "cell_type": "code",
   "execution_count": 160,
   "id": "d7bda4f5",
   "metadata": {},
   "outputs": [
    {
     "data": {
      "text/plain": [
       "0.9035087719298246"
      ]
     },
     "execution_count": 160,
     "metadata": {},
     "output_type": "execute_result"
    }
   ],
   "source": [
    "gnb.score(x_test, y_test)"
   ]
  },
  {
   "cell_type": "markdown",
   "id": "79eeb140",
   "metadata": {},
   "source": [
    "#### The Naive Bayes give 90%"
   ]
  },
  {
   "cell_type": "markdown",
   "id": "38eeb300",
   "metadata": {},
   "source": [
    "<hr>\n",
    "\n",
    "### Decision Trees"
   ]
  },
  {
   "cell_type": "code",
   "execution_count": 161,
   "id": "9af3af58",
   "metadata": {},
   "outputs": [
    {
     "data": {
      "text/plain": [
       "DecisionTreeClassifier()"
      ]
     },
     "execution_count": 161,
     "metadata": {},
     "output_type": "execute_result"
    }
   ],
   "source": [
    "from sklearn.tree import DecisionTreeClassifier\n",
    "dtc = DecisionTreeClassifier()\n",
    "dtc.fit(x_train, y_train)"
   ]
  },
  {
   "cell_type": "code",
   "execution_count": 162,
   "id": "b8536415",
   "metadata": {},
   "outputs": [],
   "source": [
    "y_preds_dtc = dtc.predict(x_test)"
   ]
  },
  {
   "cell_type": "code",
   "execution_count": 163,
   "id": "320d8a94",
   "metadata": {},
   "outputs": [
    {
     "name": "stdout",
     "output_type": "stream",
     "text": [
      "              precision    recall  f1-score   support\n",
      "\n",
      "           0       0.86      0.94      0.90        47\n",
      "           1       0.95      0.90      0.92        67\n",
      "\n",
      "    accuracy                           0.91       114\n",
      "   macro avg       0.91      0.92      0.91       114\n",
      "weighted avg       0.92      0.91      0.91       114\n",
      "\n"
     ]
    }
   ],
   "source": [
    "print(classification_report(y_test,y_preds_dtc))"
   ]
  },
  {
   "cell_type": "code",
   "execution_count": 164,
   "id": "cd0a28bf",
   "metadata": {},
   "outputs": [
    {
     "data": {
      "text/plain": [
       "array([[44,  3],\n",
       "       [ 7, 60]], dtype=int64)"
      ]
     },
     "execution_count": 164,
     "metadata": {},
     "output_type": "execute_result"
    }
   ],
   "source": [
    "confusion_matrix(y_test, y_preds_dtc)"
   ]
  },
  {
   "cell_type": "code",
   "execution_count": 165,
   "id": "2f19a094",
   "metadata": {},
   "outputs": [
    {
     "data": {
      "text/plain": [
       "0.9122807017543859"
      ]
     },
     "execution_count": 165,
     "metadata": {},
     "output_type": "execute_result"
    }
   ],
   "source": [
    "dtc.score(x_test,y_test)"
   ]
  },
  {
   "cell_type": "markdown",
   "id": "b60e793a",
   "metadata": {},
   "source": [
    "#### The Decision Trees has a score of 91%"
   ]
  },
  {
   "cell_type": "markdown",
   "id": "dd1196b3",
   "metadata": {},
   "source": [
    "<hr>\n",
    "\n",
    "### Ensemble Methods\n",
    "\n",
    "We will see:\n",
    "- Random Forest Classificaton\n",
    "- Voting Classifier"
   ]
  },
  {
   "cell_type": "code",
   "execution_count": 166,
   "id": "0729cc8e",
   "metadata": {},
   "outputs": [
    {
     "data": {
      "text/plain": [
       "RandomForestClassifier()"
      ]
     },
     "execution_count": 166,
     "metadata": {},
     "output_type": "execute_result"
    }
   ],
   "source": [
    "from sklearn.ensemble import RandomForestClassifier\n",
    "rfc = RandomForestClassifier()\n",
    "rfc.fit(x_train, y_train)"
   ]
  },
  {
   "cell_type": "code",
   "execution_count": 167,
   "id": "e2ac58e9",
   "metadata": {},
   "outputs": [],
   "source": [
    "y_preds_rfc = rfc.predict(x_test)"
   ]
  },
  {
   "cell_type": "code",
   "execution_count": 168,
   "id": "0d8bee17",
   "metadata": {},
   "outputs": [
    {
     "name": "stdout",
     "output_type": "stream",
     "text": [
      "              precision    recall  f1-score   support\n",
      "\n",
      "           0       0.98      0.98      0.98        47\n",
      "           1       0.99      0.99      0.99        67\n",
      "\n",
      "    accuracy                           0.98       114\n",
      "   macro avg       0.98      0.98      0.98       114\n",
      "weighted avg       0.98      0.98      0.98       114\n",
      "\n"
     ]
    }
   ],
   "source": [
    "print(classification_report(y_test, y_preds_rfc))"
   ]
  },
  {
   "cell_type": "code",
   "execution_count": 169,
   "id": "26b9b4d6",
   "metadata": {},
   "outputs": [
    {
     "data": {
      "text/plain": [
       "array([[46,  1],\n",
       "       [ 1, 66]], dtype=int64)"
      ]
     },
     "execution_count": 169,
     "metadata": {},
     "output_type": "execute_result"
    }
   ],
   "source": [
    "confusion_matrix(y_test, y_preds_rfc)"
   ]
  },
  {
   "cell_type": "code",
   "execution_count": 170,
   "id": "bd2dd7e6",
   "metadata": {},
   "outputs": [
    {
     "data": {
      "text/plain": [
       "0.9824561403508771"
      ]
     },
     "execution_count": 170,
     "metadata": {},
     "output_type": "execute_result"
    }
   ],
   "source": [
    "rfc.score(x_test, y_test)"
   ]
  },
  {
   "cell_type": "markdown",
   "id": "87e09f90",
   "metadata": {},
   "source": [
    "#### The Random Forest Classifier has a score of 98%"
   ]
  },
  {
   "cell_type": "markdown",
   "id": "1e37df9a",
   "metadata": {},
   "source": [
    "<br>\n",
    "\n",
    "### Voting Classifier (Majority Voting)"
   ]
  },
  {
   "cell_type": "code",
   "execution_count": 187,
   "id": "046f0d36",
   "metadata": {},
   "outputs": [
    {
     "data": {
      "text/plain": [
       "VotingClassifier(estimators=[('rfc', RandomForestClassifier()),\n",
       "                             ('dtc', DecisionTreeClassifier()),\n",
       "                             ('knn', KNeighborsClassifier()),\n",
       "                             ('gpc', GaussianProcessClassifier()),\n",
       "                             ('sgd', SGDClassifier()), ('svc', SVC()),\n",
       "                             ('lin', RidgeClassifier())])"
      ]
     },
     "execution_count": 187,
     "metadata": {},
     "output_type": "execute_result"
    }
   ],
   "source": [
    "from sklearn.ensemble import VotingClassifier\n",
    "vc = VotingClassifier(\n",
    "    estimators=[\n",
    "        ('rfc', rfc), ('dtc', dtc), ('knn', knnc), ('gpc', gpc), ('sgd', sgd), ('svc', svc), ('lin', lin_class)\n",
    "    ], voting='hard'\n",
    ")\n",
    "vc.fit(x_train,y_train)"
   ]
  },
  {
   "cell_type": "code",
   "execution_count": 188,
   "id": "804ce1ce",
   "metadata": {},
   "outputs": [],
   "source": [
    "y_preds_vc = vc.predict(x_test)"
   ]
  },
  {
   "cell_type": "code",
   "execution_count": 189,
   "id": "a00d7871",
   "metadata": {},
   "outputs": [
    {
     "name": "stdout",
     "output_type": "stream",
     "text": [
      "              precision    recall  f1-score   support\n",
      "\n",
      "           0       1.00      0.94      0.97        47\n",
      "           1       0.96      1.00      0.98        67\n",
      "\n",
      "    accuracy                           0.97       114\n",
      "   macro avg       0.98      0.97      0.97       114\n",
      "weighted avg       0.97      0.97      0.97       114\n",
      "\n"
     ]
    }
   ],
   "source": [
    "print(classification_report(y_test, y_preds_vc))"
   ]
  },
  {
   "cell_type": "code",
   "execution_count": 190,
   "id": "94c55fd0",
   "metadata": {},
   "outputs": [
    {
     "data": {
      "text/plain": [
       "array([[44,  3],\n",
       "       [ 0, 67]], dtype=int64)"
      ]
     },
     "execution_count": 190,
     "metadata": {},
     "output_type": "execute_result"
    }
   ],
   "source": [
    "confusion_matrix(y_test, y_preds_vc)"
   ]
  },
  {
   "cell_type": "code",
   "execution_count": 191,
   "id": "ce828b2c",
   "metadata": {},
   "outputs": [
    {
     "data": {
      "text/plain": [
       "0.9736842105263158"
      ]
     },
     "execution_count": 191,
     "metadata": {},
     "output_type": "execute_result"
    }
   ],
   "source": [
    "vc.score(x_test, y_test)"
   ]
  },
  {
   "cell_type": "markdown",
   "id": "c63ccddc",
   "metadata": {},
   "source": [
    "#### The majority voting has a score of 97%"
   ]
  },
  {
   "cell_type": "markdown",
   "id": "b980bb1d",
   "metadata": {},
   "source": [
    "<hr>\n",
    "\n",
    "## Analyzing Performance of different models"
   ]
  },
  {
   "cell_type": "code",
   "execution_count": 232,
   "id": "49dbb995",
   "metadata": {},
   "outputs": [
    {
     "data": {
      "image/png": "[encoded data removed]",
      "text/plain": [
       "<Figure size 1440x720 with 1 Axes>"
      ]
     },
     "metadata": {
      "needs_background": "light"
     },
     "output_type": "display_data"
    }
   ],
   "source": [
    "scores = [\n",
    "    lin_class.score(x_test, y_test)*100,\n",
    "    svc.score(x_test, y_test)*100,\n",
    "    sgd.score(x_test, y_test)*100,\n",
    "    gpc.score(x_test, y_test)*100,\n",
    "    gnb.score(x_test, y_test)*100,\n",
    "    knnc.score(x_test, y_test)*100,\n",
    "    dtc.score(x_test, y_test)*100,\n",
    "    rfc.score(x_test, y_test)*100,\n",
    "    vc.score(x_test, y_test)*100,\n",
    "]\n",
    "\n",
    "labels = [\n",
    "    \"Linear Model\",\n",
    "    \"Support Vector Machines\",\n",
    "    \"Stohastic Gradient Descent\",\n",
    "    \"Gaussian Processes\",\n",
    "    \"Naive Bayes\",\n",
    "    \"Nearest Neighbours\",\n",
    "    \"Decision Trees\",\n",
    "    \"Random Forest\",\n",
    "    \"Majority Voting\",\n",
    "]\n",
    "\n",
    "fig, ax = plt.subplots(figsize=(20,10))\n",
    "ax.bar(labels, scores)\n",
    "\n",
    "ax.set_ylim(ymin=np.amin(scores)-3, ymax=100)\n",
    "\n",
    "ax.axhline(np.mean(scores), color='maroon',linestyle=\"--\");\n",
    "\n",
    "ax.set(title=\"Accuracy Scores of Different Models\", xlabel=\"Models\", ylabel=\"Accuracy Score (%)\");\n",
    "plt.setp(ax.get_xticklabels(), rotation=30, ha='right');"
   ]
  },
  {
   "cell_type": "markdown",
   "id": "809b3bf5",
   "metadata": {},
   "source": [
    "<br>\n",
    "<hr>\n",
    "\n",
    "## Using Standardization"
   ]
  },
  {
   "cell_type": "code",
   "execution_count": 233,
   "id": "0c0dde22",
   "metadata": {},
   "outputs": [],
   "source": [
    "from sklearn.preprocessing import StandardScaler\n",
    "scaler = StandardScaler()\n",
    "# transform data\n",
    "scaled = scaler.fit_transform(x)"
   ]
  },
  {
   "cell_type": "code",
   "execution_count": 234,
   "id": "f08cdf05",
   "metadata": {},
   "outputs": [],
   "source": [
    "from sklearn.model_selection import train_test_split\n",
    "x_train, x_test, y_train, y_test = train_test_split(scaled, y, test_size=0.2, random_state=0)"
   ]
  },
  {
   "cell_type": "code",
   "execution_count": 235,
   "id": "df506ac5",
   "metadata": {},
   "outputs": [
    {
     "data": {
      "text/plain": [
       "0.9298245614035088"
      ]
     },
     "execution_count": 235,
     "metadata": {},
     "output_type": "execute_result"
    }
   ],
   "source": [
    "lin_class.score(x_test,y_test)"
   ]
  },
  {
   "cell_type": "code",
   "execution_count": 236,
   "id": "6f17fd85",
   "metadata": {},
   "outputs": [
    {
     "data": {
      "text/plain": [
       "0.41228070175438597"
      ]
     },
     "execution_count": 236,
     "metadata": {},
     "output_type": "execute_result"
    }
   ],
   "source": [
    "svc.score(x_test, y_test)"
   ]
  },
  {
   "cell_type": "code",
   "execution_count": 237,
   "id": "3ad65241",
   "metadata": {},
   "outputs": [
    {
     "data": {
      "text/plain": [
       "0.9210526315789473"
      ]
     },
     "execution_count": 237,
     "metadata": {},
     "output_type": "execute_result"
    }
   ],
   "source": [
    "sgd.score(x_test, y_test)"
   ]
  },
  {
   "cell_type": "code",
   "execution_count": 238,
   "id": "20976bb2",
   "metadata": {},
   "outputs": [
    {
     "data": {
      "text/plain": [
       "0.9385964912280702"
      ]
     },
     "execution_count": 238,
     "metadata": {},
     "output_type": "execute_result"
    }
   ],
   "source": [
    "gpc.score(x_test, y_test)"
   ]
  },
  {
   "cell_type": "code",
   "execution_count": 239,
   "id": "971ca2f5",
   "metadata": {},
   "outputs": [
    {
     "data": {
      "text/plain": [
       "0.41228070175438597"
      ]
     },
     "execution_count": 239,
     "metadata": {},
     "output_type": "execute_result"
    }
   ],
   "source": [
    "gnb.score(x_test, y_test)"
   ]
  },
  {
   "cell_type": "code",
   "execution_count": 240,
   "id": "a90e2c64",
   "metadata": {},
   "outputs": [
    {
     "data": {
      "text/plain": [
       "0.9473684210526315"
      ]
     },
     "execution_count": 240,
     "metadata": {},
     "output_type": "execute_result"
    }
   ],
   "source": [
    "knnc.score(x_test, y_test)"
   ]
  },
  {
   "cell_type": "code",
   "execution_count": 241,
   "id": "9dd6a147",
   "metadata": {},
   "outputs": [
    {
     "data": {
      "text/plain": [
       "0.7631578947368421"
      ]
     },
     "execution_count": 241,
     "metadata": {},
     "output_type": "execute_result"
    }
   ],
   "source": [
    "dtc.score(x_test, y_test)"
   ]
  },
  {
   "cell_type": "code",
   "execution_count": 242,
   "id": "f87dd5b7",
   "metadata": {},
   "outputs": [
    {
     "data": {
      "text/plain": [
       "0.9298245614035088"
      ]
     },
     "execution_count": 242,
     "metadata": {},
     "output_type": "execute_result"
    }
   ],
   "source": [
    "rfc.score(x_test, y_test)"
   ]
  },
  {
   "cell_type": "code",
   "execution_count": 243,
   "id": "6d749f31",
   "metadata": {},
   "outputs": [
    {
     "data": {
      "text/plain": [
       "0.9473684210526315"
      ]
     },
     "execution_count": 243,
     "metadata": {},
     "output_type": "execute_result"
    }
   ],
   "source": [
    "vc.score(x_test, y_test)"
   ]
  },
  {
   "cell_type": "code",
   "execution_count": 244,
   "id": "28a11fc2",
   "metadata": {},
   "outputs": [
    {
     "data": {
      "image/png": "[encoded data removed]",
      "text/plain": [
       "<Figure size 1440x720 with 1 Axes>"
      ]
     },
     "metadata": {
      "needs_background": "light"
     },
     "output_type": "display_data"
    }
   ],
   "source": [
    "scores = [\n",
    "    lin_class.score(x_test, y_test)*100,\n",
    "    svc.score(x_test, y_test)*100,\n",
    "    sgd.score(x_test, y_test)*100,\n",
    "    gpc.score(x_test, y_test)*100,\n",
    "    gnb.score(x_test, y_test)*100,\n",
    "    knnc.score(x_test, y_test)*100,\n",
    "    dtc.score(x_test, y_test)*100,\n",
    "    rfc.score(x_test, y_test)*100,\n",
    "    vc.score(x_test, y_test)*100,\n",
    "]\n",
    "\n",
    "labels = [\n",
    "    \"Linear Model\",\n",
    "    \"Support Vector Machines\",\n",
    "    \"Stohastic Gradient Descent\",\n",
    "    \"Gaussian Processes\",\n",
    "    \"Naive Bayes\",\n",
    "    \"Nearest Neighbours\",\n",
    "    \"Decision Trees\",\n",
    "    \"Random Forest\",\n",
    "    \"Majority Voting\",\n",
    "]\n",
    "\n",
    "fig, ax = plt.subplots(figsize=(20,10))\n",
    "ax.bar(labels, scores)\n",
    "\n",
    "ax.set_ylim(ymin=np.amin(scores)-3, ymax=100)\n",
    "\n",
    "ax.axhline(np.mean(scores), color='maroon',linestyle=\"--\");\n",
    "\n",
    "ax.set(title=\"Accuracy Scores of Different Models\", xlabel=\"Models\", ylabel=\"Accuracy Score (%)\");\n",
    "plt.setp(ax.get_xticklabels(), rotation=30, ha='right');"
   ]
  },
  {
   "cell_type": "markdown",
   "id": "869f6cc2",
   "metadata": {},
   "source": [
    "We can see that normalizing the data for this case is better for us than standardizing it."
   ]
  }
 ],
 "metadata": {
  "kernelspec": {
   "display_name": "Python 3 (ipykernel)",
   "language": "python",
   "name": "python3"
  },
  "language_info": {
   "codemirror_mode": {
    "name": "ipython",
    "version": 3
   },
   "file_extension": ".py",
   "mimetype": "text/x-python",
   "name": "python",
   "nbconvert_exporter": "python",
   "pygments_lexer": "ipython3",
   "version": "3.9.7"
  }
 },
 "nbformat": 4,
 "nbformat_minor": 5
}
